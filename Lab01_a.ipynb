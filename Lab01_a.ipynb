{
 "cells": [
  {
   "cell_type": "code",
   "execution_count": 1,
   "metadata": {},
   "outputs": [
    {
     "name": "stderr",
     "output_type": "stream",
     "text": [
      "Using TensorFlow backend.\n"
     ]
    },
    {
     "name": "stdout",
     "output_type": "stream",
     "text": [
      "1.14.0\n"
     ]
    }
   ],
   "source": [
    "import tensorflow as tf\n",
    "from tensorflow import keras\n",
    "from keras.datasets import mnist\n",
    "import numpy as np\n",
    "import matplotlib.pyplot as plt\n",
    "print(tf.__version__)"
   ]
  },
  {
   "cell_type": "code",
   "execution_count": 2,
   "metadata": {},
   "outputs": [],
   "source": [
    "(train_images, train_labels), (test_images, test_labels) = mnist.load_data()"
   ]
  },
  {
   "cell_type": "code",
   "execution_count": 3,
   "metadata": {},
   "outputs": [
    {
     "name": "stdout",
     "output_type": "stream",
     "text": [
      "(60000, 28, 28)\n",
      "[5 0 4 ... 5 6 8]\n",
      "(10000, 28, 28)\n",
      "[7 2 1 ... 4 5 6]\n",
      "60000\n",
      "10000\n"
     ]
    },
    {
     "data": {
      "text/plain": [
       "Text(0.5, 1.0, 'image 3')"
      ]
     },
     "execution_count": 3,
     "metadata": {},
     "output_type": "execute_result"
    },
    {
     "data": {
      "image/png": "[encoded data removed]",
      "text/plain": [
       "<Figure size 432x288 with 3 Axes>"
      ]
     },
     "metadata": {
      "needs_background": "light"
     },
     "output_type": "display_data"
    }
   ],
   "source": [
    "#ex1\n",
    "print(train_images.shape)\n",
    "print(train_labels)\n",
    "print(test_images.shape)\n",
    "print(test_labels)\n",
    "print(len(train_labels))\n",
    "print(len(test_labels))\n",
    "#ex2, 4 labels : train_images, test_images, train_labels, test_labels\n",
    "#ex2, images size and plot few examples\n",
    "fig = plt.figure()\n",
    "\n",
    "img = fig.add_subplot(1,3,1)\n",
    "imgplot = plt.imshow(train_images[0])\n",
    "img.set_title(\"image 1\")\n",
    "\n",
    "img = fig.add_subplot(1,3,2)\n",
    "imgplot = plt.imshow(train_images[5])\n",
    "img.set_title(\"image 2\")\n",
    "\n",
    "img = fig.add_subplot(1,3,3)\n",
    "imgplot = plt.imshow(train_images[50])\n",
    "img.set_title(\"image 3\")"
   ]
  },
  {
   "cell_type": "code",
   "execution_count": 4,
   "metadata": {},
   "outputs": [
    {
     "name": "stdout",
     "output_type": "stream",
     "text": [
      "(60000, 784)\n"
     ]
    }
   ],
   "source": [
    "#TODO: reshape and transform the data\n",
    "\n",
    "train_images = train_images.reshape(60000, 28 * 28).astype('float32') / 255\n",
    "test_images = test_images.reshape(10000, 28 * 28).astype('float32') / 255\n",
    "print(train_images.shape)"
   ]
  },
  {
   "cell_type": "code",
   "execution_count": 5,
   "metadata": {},
   "outputs": [],
   "source": [
    "#network architecture\n",
    "from keras import models\n",
    "from keras import layers\n",
    " \n",
    "network = models.Sequential()\n",
    "network.add(layers.Dense(512, activation='relu', input_shape=(28 * 28,)))\n",
    "network.add(layers.Dense(10, activation='softmax'))\n",
    "\n",
    "network.compile(optimizer='rmsprop',\n",
    "                loss='categorical_crossentropy',\n",
    "                metrics=['accuracy'])"
   ]
  },
  {
   "cell_type": "code",
   "execution_count": 6,
   "metadata": {},
   "outputs": [],
   "source": [
    "from keras.utils import to_categorical\n",
    " \n",
    "train_labels = to_categorical(train_labels)\n",
    "test_labels = to_categorical(test_labels)"
   ]
  },
  {
   "cell_type": "code",
   "execution_count": 7,
   "metadata": {},
   "outputs": [
    {
     "name": "stdout",
     "output_type": "stream",
     "text": [
      "WARNING:tensorflow:From C:\\Users\\galih\\Anaconda3\\envs\\tfenv\\lib\\site-packages\\keras\\backend\\tensorflow_backend.py:422: The name tf.global_variables is deprecated. Please use tf.compat.v1.global_variables instead.\n",
      "\n",
      "Epoch 1/5\n",
      "60000/60000 [==============================] - 22s 367us/step - loss: 0.2527 - accuracy: 0.9267\n",
      "Epoch 2/5\n",
      "60000/60000 [==============================] - 25s 410us/step - loss: 0.1030 - accuracy: 0.9694\n",
      "Epoch 3/5\n",
      "60000/60000 [==============================] - 19s 319us/step - loss: 0.0690 - accuracy: 0.9792\n",
      "Epoch 4/5\n",
      "60000/60000 [==============================] - 19s 309us/step - loss: 0.0502 - accuracy: 0.9850s - loss: 0.050\n",
      "Epoch 5/5\n",
      "60000/60000 [==============================] - 13s 209us/step - loss: 0.0380 - accuracy: 0.9890\n"
     ]
    },
    {
     "data": {
      "text/plain": [
       "<keras.callbacks.callbacks.History at 0x2b38e34f348>"
      ]
     },
     "execution_count": 7,
     "metadata": {},
     "output_type": "execute_result"
    }
   ],
   "source": [
    "#TODO: fit the model\n",
    "# Train the model\n",
    "network.fit(train_images, train_labels, batch_size=128, epochs=5)"
   ]
  },
  {
   "cell_type": "code",
   "execution_count": 8,
   "metadata": {},
   "outputs": [
    {
     "name": "stdout",
     "output_type": "stream",
     "text": [
      "10000/10000 [==============================] - 2s 169us/step\n",
      "test_acc: 0.9804999828338623\n"
     ]
    }
   ],
   "source": [
    "#network evaluation\n",
    "\n",
    "test_loss, test_acc = network.evaluate(test_images, test_labels)\n",
    "print('test_acc:', test_acc)"
   ]
  }
 ],
 "metadata": {
  "kernelspec": {
   "display_name": "Python (tfenv)",
   "language": "python",
   "name": "tfenv"
  },
  "language_info": {
   "codemirror_mode": {
    "name": "ipython",
    "version": 3
   },
   "file_extension": ".py",
   "mimetype": "text/x-python",
   "name": "python",
   "nbconvert_exporter": "python",
   "pygments_lexer": "ipython3",
   "version": "3.7.4"
  }
 },
 "nbformat": 4,
 "nbformat_minor": 2
}

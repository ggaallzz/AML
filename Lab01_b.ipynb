{
 "cells": [
  {
   "cell_type": "code",
   "execution_count": 1,
   "metadata": {},
   "outputs": [
    {
     "name": "stderr",
     "output_type": "stream",
     "text": [
      "Using TensorFlow backend.\n"
     ]
    }
   ],
   "source": [
    "from keras.datasets import imdb\n",
    " \n",
    "(train_data, train_labels), (test_data, test_labels) = imdb.load_data(num_words=10000)"
   ]
  },
  {
   "cell_type": "code",
   "execution_count": 43,
   "metadata": {},
   "outputs": [
    {
     "data": {
      "text/plain": [
       "(25000,)"
      ]
     },
     "execution_count": 43,
     "metadata": {},
     "output_type": "execute_result"
    }
   ],
   "source": [
    "#train_data.shape\n",
    "#train_labels.shape\n",
    "#test_data.shape\n",
    "test_labels.shape"
   ]
  },
  {
   "cell_type": "code",
   "execution_count": 44,
   "metadata": {},
   "outputs": [],
   "source": [
    "#preparing data\n",
    "import numpy as np\n",
    " \n",
    "def vectorize_sequences(sequences, dimension=10000):\n",
    "    # Create an all-zero matrix of shape (len(sequences), dimension)\n",
    "    results = np.zeros((len(sequences), dimension))\n",
    "    for i, sequence in enumerate(sequences):\n",
    "        results[i, sequence] = 1.  # set specific indices of results[i] to 1s\n",
    "    return results\n",
    " \n",
    "# Our vectorized training data\n",
    "x_train = vectorize_sequences(train_data)\n",
    "# Our vectorized test data\n",
    "x_test = vectorize_sequences(test_data)\n",
    "# Vectorize labels\n",
    "y_train = np.asarray(train_labels).astype('float32')\n",
    "y_test = np.asarray(test_labels).astype('float32')"
   ]
  },
  {
   "cell_type": "code",
   "execution_count": 45,
   "metadata": {},
   "outputs": [
    {
     "name": "stdout",
     "output_type": "stream",
     "text": [
      "(25000,)\n",
      "[[0. 1. 1. ... 0. 0. 0.]\n",
      " [0. 1. 1. ... 0. 0. 0.]\n",
      " [0. 1. 1. ... 0. 0. 0.]\n",
      " ...\n",
      " [0. 1. 1. ... 0. 0. 0.]\n",
      " [0. 1. 1. ... 0. 0. 0.]\n",
      " [0. 1. 1. ... 1. 0. 0.]]\n"
     ]
    }
   ],
   "source": [
    "print(y_train.shape)\n",
    "print(x_val)"
   ]
  },
  {
   "cell_type": "code",
   "execution_count": 46,
   "metadata": {},
   "outputs": [],
   "source": [
    "#network architecture\n",
    "from keras import models\n",
    "from keras import layers\n",
    " \n",
    "network = models.Sequential()\n",
    "network.add(layers.Dense(16, activation='relu', input_shape=(10000,)))\n",
    "network.add(layers.Dense(16, activation='relu'))\n",
    "network.add(layers.Dense(1, activation='sigmoid'))\n",
    "\n",
    "#network compile\n",
    "network.compile(optimizer='rmsprop',\n",
    "                loss='binary_crossentropy',\n",
    "                metrics=['accuracy'])"
   ]
  },
  {
   "cell_type": "code",
   "execution_count": 52,
   "metadata": {},
   "outputs": [
    {
     "name": "stdout",
     "output_type": "stream",
     "text": [
      "(15000, 10000)\n"
     ]
    }
   ],
   "source": [
    "# Set a validation set\n",
    "x_val = x_train[:10000]\n",
    "x_train2 = x_train[10000:]\n",
    "y_val = y_train[:10000]\n",
    "y_train2 = y_train[10000:]\n",
    "\n",
    "print(x_train2.shape)"
   ]
  },
  {
   "cell_type": "code",
   "execution_count": 48,
   "metadata": {},
   "outputs": [
    {
     "name": "stdout",
     "output_type": "stream",
     "text": [
      "Train on 15000 samples, validate on 10000 samples\n",
      "Epoch 1/20\n",
      "15000/15000 [==============================] - 12s 806us/step - loss: 0.4995 - accuracy: 0.7896 - val_loss: 0.3703 - val_accuracy: 0.8762\n",
      "Epoch 2/20\n",
      "15000/15000 [==============================] - 7s 475us/step - loss: 0.2957 - accuracy: 0.9038 - val_loss: 0.2983 - val_accuracy: 0.8892\n",
      "Epoch 3/20\n",
      "15000/15000 [==============================] - 6s 423us/step - loss: 0.2222 - accuracy: 0.9269 - val_loss: 0.2788 - val_accuracy: 0.8909\n",
      "Epoch 4/20\n",
      "15000/15000 [==============================] - 6s 431us/step - loss: 0.1735 - accuracy: 0.9435 - val_loss: 0.2732 - val_accuracy: 0.8926\n",
      "Epoch 5/20\n",
      "15000/15000 [==============================] - 7s 475us/step - loss: 0.1402 - accuracy: 0.9560 - val_loss: 0.3097 - val_accuracy: 0.8795\n",
      "Epoch 6/20\n",
      "15000/15000 [==============================] - 7s 475us/step - loss: 0.1155 - accuracy: 0.9654 - val_loss: 0.2930 - val_accuracy: 0.8882\n",
      "Epoch 7/20\n",
      "15000/15000 [==============================] - 8s 531us/step - loss: 0.0964 - accuracy: 0.9717 - val_loss: 0.3132 - val_accuracy: 0.8853\n",
      "Epoch 8/20\n",
      "15000/15000 [==============================] - 6s 423us/step - loss: 0.0767 - accuracy: 0.9789 - val_loss: 0.3308 - val_accuracy: 0.8820\n",
      "Epoch 9/20\n",
      "15000/15000 [==============================] - 6s 429us/step - loss: 0.0654 - accuracy: 0.9817 - val_loss: 0.3575 - val_accuracy: 0.8773\n",
      "Epoch 10/20\n",
      "15000/15000 [==============================] - 7s 442us/step - loss: 0.0508 - accuracy: 0.9878 - val_loss: 0.3800 - val_accuracy: 0.8789\n",
      "Epoch 11/20\n",
      "15000/15000 [==============================] - 8s 501us/step - loss: 0.0406 - accuracy: 0.9907 - val_loss: 0.4207 - val_accuracy: 0.8755\n",
      "Epoch 12/20\n",
      "15000/15000 [==============================] - 9s 590us/step - loss: 0.0342 - accuracy: 0.9923 - val_loss: 0.4382 - val_accuracy: 0.8741\n",
      "Epoch 13/20\n",
      "15000/15000 [==============================] - 7s 461us/step - loss: 0.0261 - accuracy: 0.9949 - val_loss: 0.4680 - val_accuracy: 0.8743\n",
      "Epoch 14/20\n",
      "15000/15000 [==============================] - 6s 428us/step - loss: 0.0192 - accuracy: 0.9973 - val_loss: 0.5099 - val_accuracy: 0.8686\n",
      "Epoch 15/20\n",
      "15000/15000 [==============================] - 7s 475us/step - loss: 0.0156 - accuracy: 0.9978 - val_loss: 0.5739 - val_accuracy: 0.8638\n",
      "Epoch 16/20\n",
      "15000/15000 [==============================] - 7s 483us/step - loss: 0.0125 - accuracy: 0.9986 - val_loss: 0.5728 - val_accuracy: 0.8716\n",
      "Epoch 17/20\n",
      "15000/15000 [==============================] - 7s 446us/step - loss: 0.0090 - accuracy: 0.9995 - val_loss: 0.6840 - val_accuracy: 0.8585\n",
      "Epoch 18/20\n",
      "15000/15000 [==============================] - 6s 371us/step - loss: 0.0088 - accuracy: 0.9989 - val_loss: 0.6393 - val_accuracy: 0.8682\n",
      "Epoch 19/20\n",
      "15000/15000 [==============================] - 6s 380us/step - loss: 0.0041 - accuracy: 0.9998 - val_loss: 0.6704 - val_accuracy: 0.8684\n",
      "Epoch 20/20\n",
      "15000/15000 [==============================] - 6s 371us/step - loss: 0.0055 - accuracy: 0.9993 - val_loss: 0.7150 - val_accuracy: 0.8668\n"
     ]
    }
   ],
   "source": [
    "#model training\n",
    "history = network.fit(x_train2, y_train2, batch_size=512, epochs=20, validation_data=(x_val, y_val) )"
   ]
  },
  {
   "cell_type": "code",
   "execution_count": 49,
   "metadata": {},
   "outputs": [
    {
     "name": "stdout",
     "output_type": "stream",
     "text": [
      "\n",
      "history dict: {'val_loss': [0.37032782139778136, 0.2983220380306244, 0.2787790053367615, 0.2732329137802124, 0.30974914231300354, 0.29304675602912905, 0.3132177216053009, 0.3308001308441162, 0.3574770205974579, 0.3800271819114685, 0.4206690432071686, 0.43824033484458924, 0.4679973573207855, 0.5099496196269989, 0.5738813626289367, 0.5728446964263916, 0.6840472789764405, 0.6393445463180542, 0.6704010004043579, 0.7149540783882141], 'val_accuracy': [0.8762000203132629, 0.88919997215271, 0.8909000158309937, 0.8925999999046326, 0.8794999718666077, 0.8881999850273132, 0.8852999806404114, 0.8820000290870667, 0.8773000240325928, 0.8788999915122986, 0.8755000233650208, 0.8741000294685364, 0.8743000030517578, 0.8686000108718872, 0.8637999892234802, 0.8715999722480774, 0.8585000038146973, 0.8682000041007996, 0.868399977684021, 0.8668000102043152], 'loss': [0.4995393911679586, 0.29567352911631267, 0.2221772323290507, 0.17346643862724304, 0.14019467219511667, 0.11548495434522629, 0.09640961306492488, 0.0767473136027654, 0.06540182874997456, 0.05079829812049866, 0.0406188261906306, 0.034192164744933445, 0.02607850420375665, 0.019223248254259428, 0.015619878088931243, 0.0124568013548851, 0.008992836111287275, 0.00879691775739193, 0.004110579757019878, 0.005526555329312881], 'accuracy': [0.7896, 0.9038, 0.92686665, 0.94353336, 0.956, 0.9654, 0.9716667, 0.9788667, 0.9816667, 0.9878, 0.9907333, 0.99226665, 0.9949333, 0.99726665, 0.9978, 0.9986, 0.99946666, 0.9988667, 0.9998, 0.9992667]}\n",
      "dict_keys(['val_loss', 'val_accuracy', 'loss', 'accuracy'])\n"
     ]
    }
   ],
   "source": [
    "history_dict = history.history\n",
    "history_dict.keys()\n",
    "print('\\nhistory dict:', history_dict)\n",
    "print(history_dict.keys())"
   ]
  },
  {
   "cell_type": "code",
   "execution_count": 50,
   "metadata": {},
   "outputs": [
    {
     "data": {
      "image/png": "[encoded data removed]",
      "text/plain": [
       "<Figure size 432x288 with 1 Axes>"
      ]
     },
     "metadata": {
      "needs_background": "light"
     },
     "output_type": "display_data"
    },
    {
     "data": {
      "image/png": "[encoded data removed]",
      "text/plain": [
       "<Figure size 432x288 with 1 Axes>"
      ]
     },
     "metadata": {
      "needs_background": "light"
     },
     "output_type": "display_data"
    }
   ],
   "source": [
    "import matplotlib.pyplot as plt\n",
    "\n",
    "#TODO: plot\n",
    "# summarize history for loss\n",
    "plt.plot(history.history['loss'])\n",
    "plt.plot(history.history['val_loss'])\n",
    "plt.title('model loss')\n",
    "plt.ylabel('loss')\n",
    "plt.xlabel('epoch')\n",
    "plt.legend(['training_loss', 'validation_loss'], loc='upper right')\n",
    "plt.show()\n",
    "# summarize history for accuracy\n",
    "plt.plot(history.history['accuracy'])\n",
    "plt.plot(history.history['val_accuracy'])\n",
    "plt.title('model accuracy')\n",
    "plt.ylabel('accuracy')\n",
    "plt.xlabel('epoch')\n",
    "plt.legend(['training_accuracy', 'validation_accuracy'], loc='lower right')\n",
    "plt.show()"
   ]
  },
  {
   "cell_type": "code",
   "execution_count": 51,
   "metadata": {},
   "outputs": [
    {
     "name": "stdout",
     "output_type": "stream",
     "text": [
      "25000/25000 [==============================] - 16s 623us/step\n",
      "test loss, test accuracy: [0.7889362427330017, 0.8500000238418579]\n"
     ]
    }
   ],
   "source": [
    "#evaluate\n",
    "results = network.evaluate(x_test, y_test)\n",
    "print('test loss, test accuracy:', results)"
   ]
  }
 ],
 "metadata": {
  "kernelspec": {
   "display_name": "Python (tfenv)",
   "language": "python",
   "name": "tfenv"
  },
  "language_info": {
   "codemirror_mode": {
    "name": "ipython",
    "version": 3
   },
   "file_extension": ".py",
   "mimetype": "text/x-python",
   "name": "python",
   "nbconvert_exporter": "python",
   "pygments_lexer": "ipython3",
   "version": "3.7.4"
  }
 },
 "nbformat": 4,
 "nbformat_minor": 2
}
